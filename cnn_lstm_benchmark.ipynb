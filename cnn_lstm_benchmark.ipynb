{
  "nbformat": 4,
  "nbformat_minor": 0,
  "metadata": {
    "colab": {
      "name": "cnn_lstm_benchmark",
      "provenance": [],
      "collapsed_sections": [],
      "authorship_tag": "ABX9TyPLJ55cRnr0cqa3L+o8fdZy",
      "include_colab_link": true
    },
    "kernelspec": {
      "name": "python3",
      "display_name": "Python 3"
    },
    "accelerator": "GPU"
  },
  "cells": [
    {
      "cell_type": "markdown",
      "metadata": {
        "id": "view-in-github",
        "colab_type": "text"
      },
      "source": [
        "<a href=\"https://colab.research.google.com/github/timwinter06/internship/blob/master/cnn_lstm_benchmark.ipynb\" target=\"_parent\"><img src=\"https://colab.research.google.com/assets/colab-badge.svg\" alt=\"Open In Colab\"/></a>"
      ]
    },
    {
      "cell_type": "code",
      "metadata": {
        "id": "fpgXnUskczpP",
        "colab_type": "code",
        "colab": {
          "base_uri": "https://localhost:8080/",
          "height": 123
        },
        "outputId": "93ab4735-2a78-4b78-ddb9-dd24e90ee02f"
      },
      "source": [
        "from __future__ import absolute_import, division, print_function, unicode_literals\n",
        "\n",
        "import tensorflow as tf\n",
        "\n",
        "from tensorflow.keras import datasets, layers, models\n",
        "import matplotlib.pyplot as plt\n",
        "import numpy as np\n",
        "\n",
        "from sklearn import metrics\n",
        "from sklearn.metrics import classification_report\n",
        "from sklearn import preprocessing\n",
        "\n",
        "from tensorflow import keras\n",
        "from tensorflow.keras.models import Sequential\n",
        "from tensorflow.keras.layers import Dense, Dropout, Flatten, Reshape, GlobalAveragePooling1D\n",
        "from tensorflow.keras.layers import Conv2D, MaxPooling2D, Conv1D, MaxPooling1D\n",
        "from tensorflow.keras import utils\n",
        "from tensorflow.keras.models import load_model\n",
        "from tensorflow.keras.layers import LSTM\n",
        "\n",
        "import scipy.io as sio\n",
        "import os\n",
        "import random\n",
        "\n",
        "from itertools import product\n",
        "from collections import namedtuple\n",
        "\n",
        "from google.colab import drive\n",
        "drive.mount('/content/drive', force_remount=True)"
      ],
      "execution_count": null,
      "outputs": [
        {
          "output_type": "stream",
          "text": [
            "Go to this URL in a browser: https://accounts.google.com/o/oauth2/auth?client_id=947318989803-6bn6qk8qdgf4n4g3pfee6491hc0brc4i.apps.googleusercontent.com&redirect_uri=urn%3aietf%3awg%3aoauth%3a2.0%3aoob&response_type=code&scope=email%20https%3a%2f%2fwww.googleapis.com%2fauth%2fdocs.test%20https%3a%2f%2fwww.googleapis.com%2fauth%2fdrive%20https%3a%2f%2fwww.googleapis.com%2fauth%2fdrive.photos.readonly%20https%3a%2f%2fwww.googleapis.com%2fauth%2fpeopleapi.readonly\n",
            "\n",
            "Enter your authorization code:\n",
            "··········\n",
            "Mounted at /content/drive\n"
          ],
          "name": "stdout"
        }
      ]
    },
    {
      "cell_type": "code",
      "metadata": {
        "id": "sMlnUfJLdDXa",
        "colab_type": "code",
        "colab": {}
      },
      "source": [
        "# Define functions\n",
        "\n",
        "def shuffle_in_unison(a, b):\n",
        "    rng_state = np.random.get_state()\n",
        "    np.random.shuffle(a)\n",
        "    np.random.set_state(rng_state)\n",
        "    np.random.shuffle(b)\n",
        "    return a, b\n",
        "\n",
        "def feature_normalize(dataset, label):\n",
        "    \n",
        "    mu = np.mean(dataset, axis=1)\n",
        "    sigma = np.std(dataset, axis=1)\n",
        "    \n",
        "    if np.any(sigma == 0):\n",
        "        print('There are sigmas = 0, these are removed.')\n",
        "        \n",
        "    # Find where sigmas are zero and remove those trials\n",
        "    ind = np.where(sigma == 0)\n",
        "    dataset = np.delete(dataset,ind,0)\n",
        "    label = np.delete(label,ind,0)\n",
        "    sigma = np.delete(sigma,ind,0)\n",
        "    mu = np.delete(mu,ind,0)\n",
        "    normal = np.transpose((np.transpose(dataset) - mu)/sigma)\n",
        "    \n",
        "    return normal, label, ind\n",
        "\n",
        "def import_data(animal, direct): # select animal (as string) to import data from\n",
        "    # Import all the data in the Processed data file\n",
        "    directory = direct + animal\n",
        "    fnames = os.listdir(directory)\n",
        "    whisk_data = {}\n",
        "    nr_files = len(fnames)\n",
        "    for i in range (0, nr_files):\n",
        "        fname = directory + '//' + fnames[i]\n",
        "        whisk_data[i] = sio.loadmat(fname)\n",
        "    return (whisk_data)\n",
        "\n",
        "def pre_process(whisk_data, no_zero, corr):\n",
        "    nr_files = len(whisk_data.keys())\n",
        "    shapes = np.zeros((2,nr_files))\n",
        "    for i in range (0,nr_files):\n",
        "        shapes[:,i] = whisk_data[i]['xtrain'].shape\n",
        "    # Pad the whisking traces to ensure they are all the same length\n",
        "    length = int(np.min(shapes[1,:]))\n",
        "    whisk = {}  \n",
        "    for i in range (0,nr_files):\n",
        "        whisk_2 = np.zeros((whisk_data[i]['xtrain'].shape[0], length))\n",
        "        whisk_2[:,0:int(length/2)] = whisk_data[i]['xtrain'][:,0:int(length/2)]\n",
        "        whisk_2[:,int(length/2)+1:] = whisk_data[i]['xtrain'][:,whisk_data[i]['xtrain'].shape[1]-int(length/2)+1:]\n",
        "        whisk[i] = whisk_2\n",
        "    \n",
        "    # Let's create one array with all of the training data \n",
        "    x_whisk = whisk[0]\n",
        "    y_whisk = whisk_data[0]['ytrain']\n",
        "\n",
        "    for i in range (1,nr_files):\n",
        "        x_whisk = np.concatenate((x_whisk , whisk[i]), axis =0)\n",
        "        y_whisk = np.concatenate((y_whisk , whisk_data[i]['ytrain']), axis =0)\n",
        "        \n",
        "    correct = whisk_data[0]['correct']\n",
        "    for i in range (1,nr_files):\n",
        "        correct = np.concatenate((correct,whisk_data[i]['correct']),axis = 0)\n",
        "            \n",
        "    if no_zero == 1:\n",
        "        # Delete rows of array with no pole location (pole location = 0)\n",
        "        zero = np.where(y_whisk[:,1] == 0)\n",
        "        x_whisk = np.delete(x_whisk,zero,0)\n",
        "        y_whisk = np.delete(y_whisk,zero,0)  \n",
        "        correct = np.delete(correct,zero,0)\n",
        "    if corr == 1:\n",
        "        # Only take correct data\n",
        "        ind = np.where(correct == 1)\n",
        "        x_whisk = x_whisk[ind[0],:]\n",
        "        y_whisk = y_whisk[ind[0],:]\n",
        "        \n",
        "    x_whisk, y_whisk = shuffle_in_unison(x_whisk, y_whisk)\n",
        "    # Split data into train and test data, roughly 80-20\n",
        "    split = round(0.8*x_whisk.shape[0])\n",
        "    xtrain = x_whisk[0:split,:]\n",
        "    xtest = x_whisk[split + 1:,:]\n",
        "    ytrain = y_whisk[0:split,0]\n",
        "    ytest = y_whisk[split + 1:,0]\n",
        "    xtrain = xtrain.astype(\"float32\")\n",
        "    ytrain = ytrain.astype(\"float32\")\n",
        "    xtest = xtest.astype(\"float32\")\n",
        "    ytest = ytest.astype(\"float32\")\n",
        "    length_2_trial = xtrain.shape[1]\n",
        "    length_trial = int(length_2_trial/2)\n",
        "    x_train_angle = xtrain[:, length_trial:length_2_trial ]\n",
        "    x_train_curve = xtrain[:, 0:length_trial ]\n",
        "    x_test_angle = xtest[:, length_trial:length_2_trial ]\n",
        "    x_test_curve = xtest[:, 0:length_trial ]\n",
        "    # And normalise the data\n",
        "    x_train_curve, ytrain, ind_1 = feature_normalize(x_train_curve, ytrain)\n",
        "    x_train_angle = np.delete(x_train_angle,ind_1[0],0)\n",
        "    x_train_angle, ytrain, ind_2 = feature_normalize(x_train_angle, ytrain)\n",
        "    x_train_curve = np.delete(x_train_curve,ind_2[0],0)\n",
        "    x_test_curve, ytest, ind_3 = feature_normalize(x_test_curve, ytest)\n",
        "    x_test_angle = np.delete(x_test_angle,ind_3[0],0)\n",
        "    x_test_angle, ytest, ind_4 = feature_normalize(x_test_angle, ytest)\n",
        "    x_test_curve = np.delete(x_test_curve,ind_4[0],0)\n",
        "    # concatenate all data\n",
        "    x_train_all = np.concatenate((x_train_curve, x_train_angle), axis = 1)\n",
        "    x_test_all = np.concatenate((x_test_curve, x_test_curve), axis = 1)\n",
        "    for i in range (0,ytrain.shape[0]):\n",
        "        if ytrain[i] == -1:\n",
        "            ytrain[i] = 0\n",
        "    for i in range (0,ytest.shape[0]):\n",
        "        if ytest[i] == -1:\n",
        "            ytest[i] = 0\n",
        "    num_classes = 2\n",
        "    ytrain = utils.to_categorical(ytrain, num_classes)\n",
        "    ytest = utils.to_categorical(ytest, num_classes)\n",
        "    return (x_train_all, x_test_all, ytrain, ytest, x_train_curve, x_train_angle, x_test_curve, x_test_angle)\n",
        "\n",
        "\n",
        "def prediction(model, y_test, x_test, x_train_curve, x_train_angle, CNN):\n",
        "\n",
        "  if CNN == 0:\n",
        "    TIME_PERIODS = x_train_curve.shape[1]\n",
        "    num_features = 2\n",
        "    number_samples = x_train_curve.shape[0]\n",
        "\n",
        "    # Create the correct input arrays for the LSTM network\n",
        "\n",
        "    x_train = np.zeros((number_samples, TIME_PERIODS, num_features))\n",
        "\n",
        "    x_train[:,:,0] = x_train_angle\n",
        "    x_train[:,:,1] = x_train_curve\n",
        "    x_test = x_train\n",
        "\n",
        "  # Find out the predictions of the model\n",
        "  y_pred_test = model.predict(x_test)\n",
        "\n",
        "  if CNN == 1:\n",
        "    y_pred_label = np.zeros((len(y_test),2))\n",
        "  # Change to 1s and 0s\n",
        "    for i in range (len(y_test)):\n",
        "      if y_pred_test[i,0] > y_pred_test[i,1]:\n",
        "        y_pred_label[i,:] = [1, 0]\n",
        "      else:\n",
        "        y_pred_label[i,:] = [0, 1]\n",
        "  elif CNN == 0:\n",
        "    y_pred_label = np.zeros((len(y_test),1))\n",
        "    yte = np.zeros(len(y_test))\n",
        "    for i in range (0,len(y_test)):\n",
        "      if np.all(y_test[i,:] == [1, 0]):\n",
        "        yte[i] = 1\n",
        "    y_test = yte\n",
        "    # Changes to 1s and 0s\n",
        "    for i in range (len(y_test)):\n",
        "      if y_pred_test[i] > 0.5:\n",
        "        y_pred_label[i] = 1\n",
        "\n",
        "  # Make empty list in which to store trial numbers which are misclassified and another for correctly classified trials\n",
        "  y_incorrect = []\n",
        "  y_correct = []\n",
        "\n",
        "  # Loop over all trials to check if they are classifed correctly\n",
        "  for i in range (len(y_test)):\n",
        "    if CNN == 1:\n",
        "      if np.all(y_pred_label[i,:] != y_test[i,:]):\n",
        "      # Store the 'incorrect' trials\n",
        "        y_incorrect = np.append(y_incorrect,i)\n",
        "      else:\n",
        "        y_correct = np.append(y_correct,i)\n",
        "    elif CNN == 0:\n",
        "      if y_pred_label[i] != y_test[i]:\n",
        "        y_incorrect = np.append(y_incorrect,i)\n",
        "      else:\n",
        "        y_correct = np.append(y_correct, i)\n",
        "\n",
        "  # Change float array to int array\n",
        "  y_incorrect = y_incorrect.astype(int)\n",
        "  y_correct = y_correct.astype(int)\n",
        "\n",
        "  # Calculate accuracy\n",
        "  acc = 1 - (len(y_incorrect)/len(y_test))\n",
        "\n",
        "  return(acc, y_correct, y_incorrect, y_pred_test, y_pred_label)\n",
        "\n",
        "def get_runs(params):\n",
        "  Run = namedtuple('Run', params.keys())\n",
        "  runs = []\n",
        "  for v in product(*params.values()):\n",
        "      runs.append(Run(*v))\n",
        "  return runs\n",
        "\n",
        "def plot_some(x_t_c, x_t_a, ytrain, number, save, name, rnd ):\n",
        "    # Lets plot random proximal trials and 10 random distal trials\n",
        "    prox = np.where(ytrain == [1, 0])\n",
        "    dist = np.where(ytrain == [0, 1])\n",
        "    width = 0.5\n",
        "    mark = 0.5\n",
        "    ymin = -20\n",
        "    ymax = 20\n",
        "\n",
        "    prox = np.ndarray.tolist(prox[0])\n",
        "    dist = np.ndarray.tolist(dist[0])\n",
        "\n",
        "    fig = plt.figure( figsize = (18,9))\n",
        "\n",
        "    ax1 = plt.subplot(221)\n",
        "    ax2 = plt.subplot(222)\n",
        "    ax3 = plt.subplot(223)\n",
        "    ax4 = plt.subplot(224)\n",
        "    \n",
        "    if rnd == 1:\n",
        "      rnd_p = random.sample(prox, number)\n",
        "      rnd_d = random.sample(dist, number)\n",
        "    elif rnd == 0:\n",
        "      rnd_p = prox\n",
        "      rnd_d = dist\n",
        " \n",
        "    x_train_curve = x_t_c\n",
        "    x_train_angle = x_t_a\n",
        "\n",
        "    for n in range (0, len(rnd_p)):\n",
        "        # Plot proximal\n",
        "        ax1.plot(x_train_curve[rnd_p[n],:],'b',linewidth = width, markersize = mark) # plot curve\n",
        "        ax1.set_title('Proximal curvature')\n",
        "        ax1.set_ylim([ymin,ymax])\n",
        "        ax1.set_xlabel('time/ms')\n",
        "        ax2.plot(x_train_angle[rnd_p[n],:],'b',linewidth = width,markersize = mark) # plot angle\n",
        "        ax2.set_title('Proximal angle')\n",
        "        ax2.set_ylim([ymin,ymax])\n",
        "        ax2.set_xlabel('time/ms')\n",
        "    for n in range (0, len(rnd_d)):\n",
        "        # Plot distal\n",
        "        ax3.plot(x_train_curve[rnd_d[n],:],'r',linewidth = width,markersize = mark) # plot curve\n",
        "        ax3.set_title('Distal curvature')\n",
        "        ax3.set_ylim([ymin,ymax])\n",
        "        ax3.set_xlabel('time/ms')\n",
        "        ax4.plot(x_train_angle[rnd_d[n],:],'r',linewidth = width,markersize = mark) # plot angle\n",
        "        ax4.set_title('Distal angle')\n",
        "        ax4.set_ylim([ymin,ymax])\n",
        "        ax4.set_xlabel('time/ms')\n",
        "    if save == 1:\n",
        "      fig.savefig(name)\n",
        "    return()\n"
      ],
      "execution_count": null,
      "outputs": []
    },
    {
      "cell_type": "code",
      "metadata": {
        "id": "Y96fQ8q9dxkm",
        "colab_type": "code",
        "colab": {
          "base_uri": "https://localhost:8080/",
          "height": 34
        },
        "outputId": "80699db6-7c46-4c56-e57a-497e5a7bf4a4"
      },
      "source": [
        "# Import all the data and preprocess\n",
        "whisk_data = import_data('an171923','/content/drive/My Drive/Processed data//')\n",
        "# Choose if you want data with no pole location and if you want correct trials\n",
        "no_zero , corr = 1 , 1\n",
        "xtrain, xtest, ytrain, ytest, x_t_c, x_t_a, x_test_c, x_test_a = pre_process(whisk_data, no_zero, corr)\n",
        "# Plot a number of the trials\n",
        "#number = 100\n",
        "#plot_some(x_t_c, x_t_a, ytrain, number)\n",
        "\n",
        "# Create the correct input arrays for the LSTM network\n",
        "\n",
        "TIME_PERIODS = x_t_c.shape[1]\n",
        "num_features = 2\n",
        "number_samples = x_t_c.shape[0]\n",
        "number_test = x_test_c.shape[0]\n",
        "\n",
        "x_train = np.zeros((number_samples, TIME_PERIODS, num_features))\n",
        "x_test = np.zeros((number_test, TIME_PERIODS, num_features))\n",
        "\n",
        "x_train[:,:,0] = x_t_a\n",
        "x_train[:,:,1] = x_t_c\n",
        "x_test[:,:,0] = x_test_a\n",
        "x_test[:,:,1] = x_test_c"
      ],
      "execution_count": null,
      "outputs": [
        {
          "output_type": "stream",
          "text": [
            "There are sigmas = 0, these are removed.\n"
          ],
          "name": "stdout"
        }
      ]
    },
    {
      "cell_type": "code",
      "metadata": {
        "id": "z6vyghTHeahD",
        "colab_type": "code",
        "colab": {}
      },
      "source": [
        "class prediction_stats:\n",
        "\n",
        "  def __init__(self, acc, y_correct, y_incorrect, y_pred_test, y_l):\n",
        "    self.acc = acc\n",
        "    self.y_correct = y_correct\n",
        "    self.y_incorrect = y_incorrect\n",
        "    self.y_pred_test = y_pred_test\n",
        "    self.y_l = y_l"
      ],
      "execution_count": null,
      "outputs": []
    },
    {
      "cell_type": "code",
      "metadata": {
        "id": "5b9iziz5eMeH",
        "colab_type": "code",
        "colab": {
          "base_uri": "https://localhost:8080/",
          "height": 292
        },
        "outputId": "de3cb780-38a9-472d-ebdf-cadcf1276914"
      },
      "source": [
        "# Get the incorrectly classified trials and the correctly classified trials\n",
        "# Load the model \n",
        "model_lstm = load_model('/content/drive/My Drive/LSTM_CNN_0.86')\n",
        "model_cnn = load_model('/content/drive/My Drive/CNN_3_layers_acc_0.78')\n",
        "\n",
        "# Get the stats for the two models \n",
        "acc, y_correct, y_incorrect, y_pred_test, y_l = prediction(model_cnn, ytest, xtest, 1)\n",
        "cnn_test = prediction_stats(acc, y_correct, y_incorrect, y_pred_test, y_l )\n",
        "acc, y_correct, y_incorrect, y_pred_test, y_l = prediction(model_lstm, ytest, x_test, 0)\n",
        "lstm_test = prediction_stats(acc, y_correct, y_incorrect, y_pred_test, y_l )"
      ],
      "execution_count": null,
      "outputs": [
        {
          "output_type": "stream",
          "text": [
            "WARNING:tensorflow:From /usr/local/lib/python3.6/dist-packages/tensorflow_core/python/ops/init_ops.py:97: calling GlorotUniform.__init__ (from tensorflow.python.ops.init_ops) with dtype is deprecated and will be removed in a future version.\n",
            "Instructions for updating:\n",
            "Call initializer instance with the dtype argument instead of passing it to the constructor\n",
            "WARNING:tensorflow:From /usr/local/lib/python3.6/dist-packages/tensorflow_core/python/ops/init_ops.py:97: calling Zeros.__init__ (from tensorflow.python.ops.init_ops) with dtype is deprecated and will be removed in a future version.\n",
            "Instructions for updating:\n",
            "Call initializer instance with the dtype argument instead of passing it to the constructor\n",
            "WARNING:tensorflow:From /usr/local/lib/python3.6/dist-packages/tensorflow_core/python/ops/resource_variable_ops.py:1630: calling BaseResourceVariable.__init__ (from tensorflow.python.ops.resource_variable_ops) with constraint is deprecated and will be removed in a future version.\n",
            "Instructions for updating:\n",
            "If using Keras pass *_constraint arguments to layers.\n",
            "WARNING:tensorflow:From /usr/local/lib/python3.6/dist-packages/tensorflow_core/python/ops/init_ops.py:97: calling Orthogonal.__init__ (from tensorflow.python.ops.init_ops) with dtype is deprecated and will be removed in a future version.\n",
            "Instructions for updating:\n",
            "Call initializer instance with the dtype argument instead of passing it to the constructor\n",
            "WARNING:tensorflow:From /usr/local/lib/python3.6/dist-packages/tensorflow_core/python/ops/nn_impl.py:183: where (from tensorflow.python.ops.array_ops) is deprecated and will be removed in a future version.\n",
            "Instructions for updating:\n",
            "Use tf.where in 2.0, which has the same broadcast rule as np.where\n"
          ],
          "name": "stdout"
        }
      ]
    },
    {
      "cell_type": "code",
      "metadata": {
        "id": "MXIgeWSdrx84",
        "colab_type": "code",
        "colab": {}
      },
      "source": [
        "# Get the stats for the two models \n",
        "acc, y_correct, y_incorrect, y_pred_test, y_l = prediction(model_cnn, ytrain, xtrain, 1)\n",
        "cnn_train = prediction_stats(acc, y_correct, y_incorrect, y_pred_test, y_l )\n",
        "acc, y_correct, y_incorrect, y_pred_test, y_l = prediction(model_lstm, ytrain, x_train, 0)\n",
        "lstm_train = prediction_stats(acc, y_correct, y_incorrect, y_pred_test, y_l )"
      ],
      "execution_count": null,
      "outputs": []
    },
    {
      "cell_type": "code",
      "metadata": {
        "id": "eEFknWPrtUoH",
        "colab_type": "code",
        "colab": {}
      },
      "source": [
        "def intersection(lst1, lst2): \n",
        "    lst3 = [value for value in lst1 if value in lst2] \n",
        "    return lst3 "
      ],
      "execution_count": null,
      "outputs": []
    },
    {
      "cell_type": "code",
      "metadata": {
        "id": "BMf6quYwvqrQ",
        "colab_type": "code",
        "colab": {
          "base_uri": "https://localhost:8080/",
          "height": 119
        },
        "outputId": "8d4b1483-4980-4957-a463-b99deafb1f2b"
      },
      "source": [
        "inter_train = intersection(cnn_train.y_incorrect, lstm_train.y_incorrect)\n",
        "inter_test = intersection(cnn_test.y_incorrect, lstm_test.y_incorrect)\n",
        "\n",
        "print(len(inter_train))\n",
        "print(len(lstm_train.y_incorrect))\n",
        "print(len(cnn_train.y_incorrect))\n",
        "\n",
        "print(len(inter_test))\n",
        "print(len(lstm_test.y_incorrect))\n",
        "print(len(cnn_test.y_incorrect))"
      ],
      "execution_count": null,
      "outputs": [
        {
          "output_type": "stream",
          "text": [
            "228\n",
            "319\n",
            "365\n",
            "51\n",
            "74\n",
            "105\n"
          ],
          "name": "stdout"
        }
      ]
    },
    {
      "cell_type": "code",
      "metadata": {
        "id": "KlYHRJTr1Ny6",
        "colab_type": "code",
        "colab": {}
      },
      "source": [
        "def make_cnn(x, y, hyper):\n",
        "  n = 0 \n",
        "  TIME_PERIODS = int(x.shape[1]/2)\n",
        "  input_shape = x.shape[1]\n",
        "  num_sensors = 2\n",
        "  num_classes = 2 \n",
        "  EPOCHS = hyper[n].epochs\n",
        "\n",
        "  # Add first layer\n",
        "  model_m = Sequential()\n",
        "  model_m.add(Reshape((TIME_PERIODS, num_sensors), input_shape=(input_shape,)))\n",
        "  model_m.add(Conv1D(hyper[n].Filter_number, hyper[n].Filter_size_1, activation='relu', input_shape=(TIME_PERIODS,num_sensors)))\n",
        "  # Add second layer    \n",
        "  model_m.add(MaxPooling1D(hyper[n].Pooling_1))\n",
        "  model_m.add(Conv1D(hyper[n].Filter_number, hyper[n].Filter_size_2, activation='relu'))\n",
        "  # Add third layer\n",
        "  model_m.add(MaxPooling1D(hyper[n].Pooling_2))\n",
        "  model_m.add(Conv1D(hyper[n].Filter_number, hyper[n].Filter_size_3, activation='relu'))\n",
        "  # Poolng, droput and output  \n",
        "  model_m.add(GlobalAveragePooling1D())\n",
        "  model_m.add(Dropout(0.5))\n",
        "  model_m.add(Dense(num_classes, activation='softmax'))\n",
        "  # End of CNN\n",
        "  callbacks_list = [keras.callbacks.EarlyStopping(monitor='val_acc', patience=1)]\n",
        "\n",
        "  # Train CNN                                                     \n",
        "  model_m.compile(loss='binary_crossentropy',\n",
        "                  optimizer='adam', metrics=['accuracy'])\n",
        "    \n",
        "  history = model_m.fit(x,y,\n",
        "                        batch_size = hyper[n].Batch_size,\n",
        "                        epochs=EPOCHS,\n",
        "                        callbacks=callbacks_list,\n",
        "                        validation_split=0.2,verbose=0)\n",
        "  return( model_m, history)          \n",
        "\n",
        "hyper = {'Batch_size': [32]\n",
        "          ,'Filter_number': [ 200]        \n",
        "          ,'Filter_size_1': [10]\n",
        "          ,'Pooling_1': [3]\n",
        "          ,'Filter_size_2': [ 10]\n",
        "          ,'Pooling_2': [3]\n",
        "          ,'Filter_size_3': [10]\n",
        "          ,'epochs':[10]\n",
        "          }\n",
        "            "
      ],
      "execution_count": null,
      "outputs": []
    },
    {
      "cell_type": "code",
      "metadata": {
        "id": "jLTO-A_PnG6X",
        "colab_type": "code",
        "colab": {}
      },
      "source": [
        "def make_lstm(x_train_curve, x_train_angle, y, hyper):\n",
        "  n = 0 \n",
        "  # Change the y labels to 1D 1s or 0s.\n",
        "\n",
        "  ytr = np.zeros(len(y))\n",
        "  for i in range (0,len(y)):\n",
        "    if np.all(y[i,:] == [1, 0]):\n",
        "      ytr[i] = 1\n",
        "\n",
        "  y = ytr\n",
        "  TIME_PERIODS = x_train_curve.shape[1]\n",
        "  num_features = 2\n",
        "  number_samples = x_train_curve.shape[0]\n",
        "\n",
        "  # Create the correct input arrays for the LSTM network\n",
        "\n",
        "  x_train = np.zeros((number_samples, TIME_PERIODS, num_features))\n",
        "\n",
        "  x_train[:,:,0] = x_train_angle\n",
        "  x_train[:,:,1] = x_train_curve\n",
        "\n",
        "  # First define the dictionaires which return the test accuracy and loss, \n",
        "  # train accuracy and loss, and validate accuracy and loss.\n",
        "    \n",
        "  all_score = {} \n",
        "  all_history = {}\n",
        "    \n",
        "  # Define some basic parameters\n",
        "  num_sensors = 2\n",
        "  num_classes = 2 \n",
        "\n",
        "    # Build the LSTM \n",
        "  model_m = Sequential()\n",
        "    # Build a first convolutional layer\n",
        "  model_m.add(Conv1D(hyper[n].Filter_number, hyper[n].Filter_size_1, activation='relu', input_shape=(TIME_PERIODS,num_features)))\n",
        "    # Add a second convolutional layer\n",
        "  model_m.add(MaxPooling1D(hyper[n].Pooling_1))\n",
        "  model_m.add(Conv1D(hyper[n].Filter_number, hyper[n].Filter_size_2, activation='relu'))\n",
        "    # Add an LSTM layer\n",
        "  model_m.add(MaxPooling1D(hyper[n].Pooling_2))\n",
        "  model_m.add(LSTM(hyper[n].LongShort))\n",
        "  model_m.add(Dense(1, activation='sigmoid'))\n",
        "\n",
        "  callbacks_list = [keras.callbacks.EarlyStopping(monitor='acc', patience=1)]\n",
        "                                                          \n",
        "  model_m.compile(loss='binary_crossentropy',\n",
        "                  optimizer='adam', metrics=['accuracy'])\n",
        "    \n",
        "  history = model_m.fit(x_train,y,\n",
        "                        batch_size = hyper[n].Batch_size,\n",
        "                        epochs= hyper[n].epochs,\n",
        "                        callbacks=callbacks_list,\n",
        "                        validation_split=0.2,verbose=0)\n",
        "                              \n",
        "  return( model_m, history)          \n",
        "\n",
        "hyper = {'Batch_size': [32]\n",
        "          ,'Filter_number': [ 200]        \n",
        "          ,'Filter_size_1': [10]\n",
        "          ,'Pooling_1': [3]\n",
        "          ,'Filter_size_2': [ 10]\n",
        "          ,'Pooling_2': [3]\n",
        "          ,'Filter_size_3': [10]\n",
        "          ,'epochs':[10]\n",
        "         , 'LongShort': [100]\n",
        "          }\n",
        "            "
      ],
      "execution_count": null,
      "outputs": []
    },
    {
      "cell_type": "code",
      "metadata": {
        "id": "4ApftC203oZZ",
        "colab_type": "code",
        "colab": {
          "base_uri": "https://localhost:8080/",
          "height": 139
        },
        "outputId": "a25e2ac7-56ff-4105-ca94-2013e7916fa6"
      },
      "source": [
        " hype = get_runs(hyper)\n",
        " \n",
        "#model, history = make_cnn(xtrain, ytrain, hype)\n",
        "model, history = make_lstm(x_t_c, x_t_a, ytrain, hype)"
      ],
      "execution_count": null,
      "outputs": [
        {
          "output_type": "stream",
          "text": [
            "WARNING:tensorflow:From /usr/local/lib/python3.6/dist-packages/tensorflow_core/python/ops/resource_variable_ops.py:1630: calling BaseResourceVariable.__init__ (from tensorflow.python.ops.resource_variable_ops) with constraint is deprecated and will be removed in a future version.\n",
            "Instructions for updating:\n",
            "If using Keras pass *_constraint arguments to layers.\n",
            "WARNING:tensorflow:From /usr/local/lib/python3.6/dist-packages/tensorflow_core/python/ops/nn_impl.py:183: where (from tensorflow.python.ops.array_ops) is deprecated and will be removed in a future version.\n",
            "Instructions for updating:\n",
            "Use tf.where in 2.0, which has the same broadcast rule as np.where\n"
          ],
          "name": "stdout"
        }
      ]
    },
    {
      "cell_type": "code",
      "metadata": {
        "id": "Pw5ttVTP6m9B",
        "colab_type": "code",
        "colab": {
          "base_uri": "https://localhost:8080/",
          "height": 187
        },
        "outputId": "670620db-f995-462d-d980-e27aba9c6b27"
      },
      "source": [
        ""
      ],
      "execution_count": null,
      "outputs": [
        {
          "output_type": "execute_result",
          "data": {
            "text/plain": [
              "{'acc': [0.6678899, 0.7938838, 0.7969419, 0.7724771],\n",
              " 'loss': [0.6104884336847778,\n",
              "  0.4528431532670963,\n",
              "  0.42538427994885575,\n",
              "  0.46938425251467875],\n",
              " 'val_acc': [0.7603912, 0.7799511, 0.80929095, 0.6845966],\n",
              " 'val_loss': [0.5082297121108599,\n",
              "  0.4794451856671452,\n",
              "  0.4003532523047953,\n",
              "  0.6033632427381128]}"
            ]
          },
          "metadata": {
            "tags": []
          },
          "execution_count": 7
        }
      ]
    },
    {
      "cell_type": "code",
      "metadata": {
        "id": "iiQVwp2Jw9dw",
        "colab_type": "code",
        "colab": {}
      },
      "source": [
        "def find_overlap ( x_t_c, x_t_a, x_test_c, x_test_a, x, y, xtest, ytest , models, number, hype, one):\n",
        "\n",
        "  # Make the network and find the incorrect trials.\n",
        "  # Do this a number of times and find the overlap\n",
        "\n",
        "  y_incorrect = {}\n",
        "  acc = {}\n",
        "  # Train one model and test it a number of times\n",
        "  if one:\n",
        "    m = 1\n",
        "    model, _ = make_cnn(x, y, hype)\n",
        "    for i in range(number):\n",
        "      print('prediction ' + str(i))\n",
        "      acc[i], _, y_incorrect[i], _, _ = prediction(model, np.concatenate((y, ytest)), np.concatenate((x, xtest)), np.concatenate((x_t_c,x_test_c)), np.concatenate((x_t_a,x_test_a)), m)\n",
        "  # Train multiple models and test these each\n",
        "  else:\n",
        "    for i in range (number):\n",
        "      print('Making model ' + str(i))\n",
        "      if models == 'cnn':\n",
        "        m = 1\n",
        "        model, _ = make_cnn(x, y, hype)\n",
        "        acc[i], _, y_incorrect[i], _, _ = prediction(model, np.concatenate((y, ytest)), np.concatenate((x, xtest)), np.concatenate((x_t_c,x_test_c)), np.concatenate((x_t_a,x_test_a)), m)\n",
        "      if models == 'lstm':\n",
        "        m = 0\n",
        "        model, _ = make_lstm(x_t_c, x_t_a, ytrain, hype)\n",
        "        acc[i], _, y_incorrect[i], _, _ = prediction(model, np.concatenate((y, ytest)), np.concatenate((x, xtest)), np.concatenate((x_t_c,x_test_c)), np.concatenate((x_t_a,x_test_a)), m)\n",
        "          \n",
        "    \n",
        "  return(acc, y_incorrect)\n"
      ],
      "execution_count": null,
      "outputs": []
    },
    {
      "cell_type": "code",
      "metadata": {
        "id": "sXjk6ppGBc4i",
        "colab_type": "code",
        "colab": {
          "base_uri": "https://localhost:8080/",
          "height": 187
        },
        "outputId": "7c6f1906-e117-4632-ef93-78af9f9c931e"
      },
      "source": [
        "number = 10\n",
        "one = False\n",
        "model = 'cnn'\n",
        "acc, y_incorrect = find_overlap(x_t_c, x_t_a, x_test_c, x_test_a, xtrain, ytrain, xtest, ytest, 'lstm', number, hype, one )"
      ],
      "execution_count": null,
      "outputs": [
        {
          "output_type": "stream",
          "text": [
            "Making model 0\n",
            "Making model 1\n",
            "Making model 2\n",
            "Making model 3\n",
            "Making model 4\n",
            "Making model 5\n",
            "Making model 6\n",
            "Making model 7\n",
            "Making model 8\n",
            "Making model 9\n"
          ],
          "name": "stdout"
        }
      ]
    },
    {
      "cell_type": "code",
      "metadata": {
        "id": "psH1E5NSCJQy",
        "colab_type": "code",
        "colab": {
          "base_uri": "https://localhost:8080/",
          "height": 357
        },
        "outputId": "1b90617e-462e-4134-ca8d-ffada95b23c5"
      },
      "source": [
        "for i in range (len(y_incorrect)):\n",
        "  print(len(y_incorrect[i]))\n",
        "  print(acc[i])"
      ],
      "execution_count": null,
      "outputs": [
        {
          "output_type": "stream",
          "text": [
            "382\n",
            "0.8505477308294209\n",
            "360\n",
            "0.8591549295774648\n",
            "446\n",
            "0.8255086071987481\n",
            "416\n",
            "0.837245696400626\n",
            "371\n",
            "0.8548513302034428\n",
            "391\n",
            "0.8470266040688577\n",
            "427\n",
            "0.832942097026604\n",
            "439\n",
            "0.8282472613458529\n",
            "380\n",
            "0.8513302034428795\n",
            "448\n",
            "0.8247261345852895\n"
          ],
          "name": "stdout"
        }
      ]
    },
    {
      "cell_type": "code",
      "metadata": {
        "id": "usif5AQ-EJXt",
        "colab_type": "code",
        "colab": {}
      },
      "source": [
        "all_y_incorrect = []\n",
        "\n",
        "for i in range (len(y_incorrect)):\n",
        "  all_y_incorrect = np.append(all_y_incorrect,y_incorrect[i])\n",
        "  "
      ],
      "execution_count": null,
      "outputs": []
    },
    {
      "cell_type": "code",
      "metadata": {
        "id": "WJjWw80NPXNM",
        "colab_type": "code",
        "colab": {}
      },
      "source": [
        "uni = np.unique(all_y_incorrect)\n",
        "count = np.zeros((len(uni),2))\n",
        "count[:,0] = uni\n",
        "\n",
        "for i in range (len(uni)):\n",
        "  count[i, 1] = np.count_nonzero(all_y_incorrect == uni[i])\n"
      ],
      "execution_count": null,
      "outputs": []
    },
    {
      "cell_type": "code",
      "metadata": {
        "id": "0LFSfa-YTJs9",
        "colab_type": "code",
        "colab": {
          "base_uri": "https://localhost:8080/",
          "height": 557
        },
        "outputId": "55505bc7-29fd-46e3-91ed-5847d7031ef8"
      },
      "source": [
        "name_1 = '/content/drive/My Drive/Processed data/10_cnn_hist.png'\n",
        "name_2 = '/content/drive/My Drive/Processed data/10_cnn_percent.png'\n",
        "\n",
        "fig = plt.figure(1)\n",
        "a  = plt.hist(count[:,1], number )\n",
        "plt.xlabel('Number of times trial is misclassified')\n",
        "fig.savefig(name_1)\n",
        "\n",
        "# Calculate percentages\n",
        "percent = np.zeros(number)\n",
        "for i in range (number):\n",
        "  percent[i] = a[0][i]/len(uni)\n",
        "\n",
        "fig = plt.figure(2)\n",
        "plt.bar([1,2,3,4,5,6,7,8,9,10], percent)\n",
        "plt.title(' Percentage of all misclassified trials')\n",
        "plt.xlabel(' Number of times trial is misclassfied')\n",
        "plt.ylabel(' Percentage')\n",
        "fig.savefig(name_2)"
      ],
      "execution_count": null,
      "outputs": [
        {
          "output_type": "display_data",
          "data": {
            "image/png": "[encoded data removed]",
            "text/plain": [
              "<Figure size 432x288 with 1 Axes>"
            ]
          },
          "metadata": {
            "tags": []
          }
        },
        {
          "output_type": "display_data",
          "data": {
            "image/png": "[encoded data removed]",
            "text/plain": [
              "<Figure size 432x288 with 1 Axes>"
            ]
          },
          "metadata": {
            "tags": []
          }
        }
      ]
    },
    {
      "cell_type": "code",
      "metadata": {
        "id": "QhufYMoGauLW",
        "colab_type": "code",
        "colab": {
          "base_uri": "https://localhost:8080/",
          "height": 584
        },
        "outputId": "3f8ef795-8b76-4f10-df60-a766a08a3795"
      },
      "source": [
        "# Plot 10 times wrongly classified trials and maybe once wrongly classifed too?\n",
        "\n",
        "# find trials numbers that were 10 times wrongly classified\n",
        "\n",
        "trials_10 = np.where(count[:,1] == 10 )\n",
        "\n",
        "x_all = np.concatenate((xtrain, xtest))\n",
        "y_all = np.concatenate((ytrain, ytest))\n",
        "x_all_angle = np.concatenate((x_t_a, x_test_a))\n",
        "x_all_curve = np.concatenate((x_t_c, x_test_c))\n",
        "\n",
        "plot_some(x_all_curve[trials_10], x_all_angle[trials_10], y_all[trials_10], number, 0, 0, 0 )"
      ],
      "execution_count": null,
      "outputs": [
        {
          "output_type": "execute_result",
          "data": {
            "text/plain": [
              "()"
            ]
          },
          "metadata": {
            "tags": []
          },
          "execution_count": 27
        },
        {
          "output_type": "display_data",
          "data": {
            "image/png": "[encoded data removed]",
            "text/plain": [
              "<Figure size 1296x648 with 4 Axes>"
            ]
          },
          "metadata": {
            "tags": []
          }
        }
      ]
    }
  ]
}